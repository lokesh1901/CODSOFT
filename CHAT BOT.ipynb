{
 "cells": [
  {
   "cell_type": "code",
   "execution_count": null,
   "id": "9edce018",
   "metadata": {},
   "outputs": [
    {
     "name": "stdout",
     "output_type": "stream",
     "text": [
      "User: Hi\n",
      "Chatbot:  Hi! How can I help you today?\n",
      "User: What is your name\n",
      "Chatbot:  My name is Chatbot.\n",
      "User: what is weather today\n",
      "Chatbot:  Can you please repeat your question?\n",
      "User: bye\n",
      "Chatbot:  Bye! Have a nice day.\n"
     ]
    }
   ],
   "source": [
    "import random\n",
    "class Chatbot:\n",
    "    def __init__(self):\n",
    "        self.rules = {\n",
    "            'greet': ['hello', 'hi', 'hey'],\n",
    "            'ask_name': ['what\\'s your name', 'what is your name', 'what name'],\n",
    "            'ask_weather': ['what is the weather', 'what is the weather today', 'what weather'],\n",
    "            'goodbye': ['goodbye', 'bye', 'see you'],\n",
    "            'default': ['i didn\\'t understand', 'can you repeat', 'sorry']\n",
    "        }\n",
    "        self.responses = {\n",
    "            'greet': ['Hello! Nice to meet you.', 'Hi! How can I help you today?'],\n",
    "            'ask_name': ['My name is Chatbot.', 'I am Chatbot.'],\n",
    "            'ask_weather': ['I\\'m just a chatbot, I don\\'t have real-time access to the weather.'],\n",
    "            'goodbye': ['Goodbye! See you next time.', 'Bye! Have a nice day.'],\n",
    "            'default': ['I didn\\'t understand your query.Please rephrase your question.','Can you please repeat your question?']\n",
    "        }\n",
    "\n",
    "    def respond(self, user_input):\n",
    "        user_input = user_input.lower()\n",
    "        for key, values in self.rules.items():\n",
    "            if any(value in user_input for value in values):\n",
    "                return random.choice(self.responses[key])\n",
    "        return random.choice(self.responses['default'])\n",
    "\n",
    "chatbot = Chatbot()\n",
    "while True:\n",
    "    user_input = input(\"User: \")\n",
    "    response = chatbot.respond(user_input)\n",
    "    print(\"Chatbot: \", response)\n"
   ]
  },
  {
   "cell_type": "code",
   "execution_count": null,
   "id": "8e6e3f29",
   "metadata": {},
   "outputs": [],
   "source": []
  }
 ],
 "metadata": {
  "kernelspec": {
   "display_name": "Python 3 (ipykernel)",
   "language": "python",
   "name": "python3"
  },
  "language_info": {
   "codemirror_mode": {
    "name": "ipython",
    "version": 3
   },
   "file_extension": ".py",
   "mimetype": "text/x-python",
   "name": "python",
   "nbconvert_exporter": "python",
   "pygments_lexer": "ipython3",
   "version": "3.11.5"
  }
 },
 "nbformat": 4,
 "nbformat_minor": 5
}
